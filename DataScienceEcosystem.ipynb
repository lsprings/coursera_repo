{
  "nbformat": 4,
  "nbformat_minor": 0,
  "metadata": {
    "colab": {
      "provenance": [],
      "authorship_tag": "ABX9TyMGGOdnstKL98GEemHlsS4X",
      "include_colab_link": true
    },
    "kernelspec": {
      "name": "python3",
      "display_name": "Python 3"
    },
    "language_info": {
      "name": "python"
    }
  },
  "cells": [
    {
      "cell_type": "markdown",
      "metadata": {
        "id": "view-in-github",
        "colab_type": "text"
      },
      "source": [
        "<a href=\"https://colab.research.google.com/github/lsprings/coursera_repo/blob/main/DataScienceEcosystem.ipynb\" target=\"_parent\"><img src=\"https://colab.research.google.com/assets/colab-badge.svg\" alt=\"Open In Colab\"/></a>"
      ]
    },
    {
      "cell_type": "markdown",
      "source": [
        "# Data Science Tools and Ecosystem"
      ],
      "metadata": {
        "id": "owPTt2kF5kVl"
      }
    },
    {
      "cell_type": "markdown",
      "source": [
        "In this notebook, Data Science Tools and Ecosystems are summarized."
      ],
      "metadata": {
        "id": "a2zcEQQl7hMc"
      }
    },
    {
      "cell_type": "markdown",
      "source": [
        "**Objectives:**\n",
        "- List languages of data science\n",
        "- List common data science libraries\n",
        "- List tools used in data science\n",
        "- Introduce arithmetic expressions in Jupyter Notebooks"
      ],
      "metadata": {
        "id": "PQHEQAsd_txX"
      }
    },
    {
      "cell_type": "markdown",
      "source": [
        "Some of the popular languages that Data Scientists use are:\n",
        "1. python\n",
        "2. R\n",
        "3. SQL\n",
        "4. Julia\n",
        "5. Scala/Java"
      ],
      "metadata": {
        "id": "OxZz7pRs8KgN"
      }
    },
    {
      "cell_type": "markdown",
      "source": [
        "Some of the commonly used libraries used by Data Scientists include:\n",
        "1. pandas\n",
        "2. numpy\n",
        "3. matplotlib\n",
        "4. tensorflow\n",
        "5. ggplot\n",
        "6. dplyr\n"
      ],
      "metadata": {
        "id": "Z3-5sb2j8zvw"
      }
    },
    {
      "cell_type": "markdown",
      "source": [
        "| Data Science Tools |\n",
        "| -------------------|\n",
        "| Jupyter Notebook/Lab |\n",
        "| RStudio |\n",
        "| VS Code |\n"
      ],
      "metadata": {
        "id": "3jRII1B29s_a"
      }
    },
    {
      "cell_type": "markdown",
      "source": [
        "### Below are a few examples of evaluating arithmetic expression in Python."
      ],
      "metadata": {
        "id": "fZLdHkNc-oyf"
      }
    },
    {
      "cell_type": "code",
      "source": [
        "# This is a simple arithmetic expression to multiply and add integers.\n",
        "(3*4)+5"
      ],
      "metadata": {
        "colab": {
          "base_uri": "https://localhost:8080/"
        },
        "id": "aJNP7kuL-7C5",
        "outputId": "a86c3258-f6e2-4a7d-c1c0-efb859b3a438"
      },
      "execution_count": 2,
      "outputs": [
        {
          "output_type": "execute_result",
          "data": {
            "text/plain": [
              "17"
            ]
          },
          "metadata": {},
          "execution_count": 2
        }
      ]
    },
    {
      "cell_type": "code",
      "source": [
        "# This will convert 200 minutes to hours by dividing by 60.\n",
        "200/60"
      ],
      "metadata": {
        "colab": {
          "base_uri": "https://localhost:8080/"
        },
        "id": "pYri85sE_OBN",
        "outputId": "717cc3b9-3253-4778-a27d-50aee603b916"
      },
      "execution_count": 3,
      "outputs": [
        {
          "output_type": "execute_result",
          "data": {
            "text/plain": [
              "3.3333333333333335"
            ]
          },
          "metadata": {},
          "execution_count": 3
        }
      ]
    },
    {
      "cell_type": "markdown",
      "source": [
        "## Author\n",
        "Lauren Springs"
      ],
      "metadata": {
        "id": "exPMnM9IBRhX"
      }
    }
  ]
}